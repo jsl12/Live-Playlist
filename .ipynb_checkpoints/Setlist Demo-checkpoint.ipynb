{
 "cells": [
  {
   "cell_type": "code",
   "execution_count": 1,
   "metadata": {},
   "outputs": [],
   "source": [
    "from ipywidgets import Text, Layout\n",
    "from IPython.display import display\n",
    "import setlist as sl"
   ]
  },
  {
   "cell_type": "code",
   "execution_count": 2,
   "metadata": {},
   "outputs": [],
   "source": [
    "def get_setlist(change):\n",
    "    url = change['new']\n",
    "    if 'setlist.fm/setlist/' in url:\n",
    "        print(url)\n",
    "        print(str(sl.Setlist(url)))"
   ]
  },
  {
   "cell_type": "code",
   "execution_count": 3,
   "metadata": {},
   "outputs": [
    {
     "data": {
      "application/vnd.jupyter.widget-view+json": {
       "model_id": "b264e22b1e1a4825b62a9ba3a88d856e",
       "version_major": 2,
       "version_minor": 0
      },
      "text/html": [
       "<p>Failed to display Jupyter Widget of type <code>Text</code>.</p>\n",
       "<p>\n",
       "  If you're reading this message in Jupyter Notebook or JupyterLab, it may mean\n",
       "  that the widgets JavaScript is still loading. If this message persists, it\n",
       "  likely means that the widgets JavaScript library is either not installed or\n",
       "  not enabled. See the <a href=\"https://ipywidgets.readthedocs.io/en/stable/user_install.html\">Jupyter\n",
       "  Widgets Documentation</a> for setup instructions.\n",
       "</p>\n",
       "<p>\n",
       "  If you're reading this message in another notebook frontend (for example, a static\n",
       "  rendering on GitHub or <a href=\"https://nbviewer.jupyter.org/\">NBViewer</a>),\n",
       "  it may mean that your frontend doesn't currently support widgets.\n",
       "</p>\n"
      ],
      "text/plain": [
       "Text(value='', description='URL: ', layout=Layout(width='100%'), placeholder='Paste URL here')"
      ]
     },
     "metadata": {},
     "output_type": "display_data"
    },
    {
     "name": "stdout",
     "output_type": "stream",
     "text": [
      "https://www.setlist.fm/setlist/all-them-witches/2017/antones-austin-tx-1be7ed34.html\n",
      "All Them Witches\n",
      "Antone's, Austin, TX, USA\n",
      "05/18/17\n",
      "['Am I Going Up?', 'The Death of Coyote Woman', '3-5-7', 'Alabaster', 'Dirt Preachers', 'Charles William', 'When God Comes Back', 'Talisman', 'Internet', 'Blood and Sand / Milk and Endless Waters', \"Don't Bring Me Coffee\", 'Bulls', 'Swallowed by the Sea']\n"
     ]
    }
   ],
   "source": [
    "w = Text(value='',\n",
    "        description='URL: ',\n",
    "        placeholder='Paste URL here',\n",
    "        layout=Layout(width='100%'))\n",
    "display(w)\n",
    "w.observe(get_setlist, names='value')"
   ]
  },
  {
   "cell_type": "code",
   "execution_count": null,
   "metadata": {},
   "outputs": [],
   "source": []
  }
 ],
 "metadata": {
  "kernelspec": {
   "display_name": "Python 3",
   "language": "python",
   "name": "python3"
  },
  "language_info": {
   "codemirror_mode": {
    "name": "ipython",
    "version": 3
   },
   "file_extension": ".py",
   "mimetype": "text/x-python",
   "name": "python",
   "nbconvert_exporter": "python",
   "pygments_lexer": "ipython3",
   "version": "3.6.0"
  }
 },
 "nbformat": 4,
 "nbformat_minor": 2
}
