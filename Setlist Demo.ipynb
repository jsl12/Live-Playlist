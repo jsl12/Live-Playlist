{
 "cells": [
  {
   "cell_type": "code",
   "execution_count": 1,
   "metadata": {},
   "outputs": [],
   "source": [
    "from ipywidgets import Text, Layout\n",
    "from IPython.display import display\n",
    "import setlist as sl"
   ]
  },
  {
   "cell_type": "code",
   "execution_count": 2,
   "metadata": {},
   "outputs": [],
   "source": [
    "def get_setlist(change):\n",
    "    url = change['new']\n",
    "    if 'setlist.fm/setlist/' in url:\n",
    "        print(url)\n",
    "        print(str(sl.Setlist(url)))"
   ]
  },
  {
   "cell_type": "code",
   "execution_count": 3,
   "metadata": {},
   "outputs": [
    {
     "data": {
      "application/vnd.jupyter.widget-view+json": {
       "model_id": "e5cd308f4da04c399739be61fff17687",
       "version_major": 2,
       "version_minor": 0
      },
      "text/html": [
       "<p>Failed to display Jupyter Widget of type <code>Text</code>.</p>\n",
       "<p>\n",
       "  If you're reading this message in Jupyter Notebook or JupyterLab, it may mean\n",
       "  that the widgets JavaScript is still loading. If this message persists, it\n",
       "  likely means that the widgets JavaScript library is either not installed or\n",
       "  not enabled. See the <a href=\"https://ipywidgets.readthedocs.io/en/stable/user_install.html\">Jupyter\n",
       "  Widgets Documentation</a> for setup instructions.\n",
       "</p>\n",
       "<p>\n",
       "  If you're reading this message in another notebook frontend (for example, a static\n",
       "  rendering on GitHub or <a href=\"https://nbviewer.jupyter.org/\">NBViewer</a>),\n",
       "  it may mean that your frontend doesn't currently support widgets.\n",
       "</p>\n"
      ],
      "text/plain": [
       "Text(value='', description='URL: ', layout=Layout(width='100%'), placeholder='Paste URL here')"
      ]
     },
     "metadata": {},
     "output_type": "display_data"
    },
    {
     "name": "stdout",
     "output_type": "stream",
     "text": [
      "https://www.setlist.fm/setlist/foo-fighters/2017/colonial-life-arena-columbia-sc-4be3d7e2.html\n",
      "Foo Fighters\n",
      "Colonial Life Arena, Columbia, SC, USA\n",
      "10/17/17\n",
      "['Run', 'All My Life', 'Learn to Fly', 'The Pretender', 'The Sky Is a Neighborhood', 'Something From Nothing', 'Walk', 'Rope', 'Sunday Rain', 'My Hero', 'These Days', 'Let It Die', 'Enough Space', 'White Limo', 'Arlandria', 'Times Like These', 'Breakout', 'Make It Right', 'Skin and Bones', 'Rock Lobster / 52 Girls / Blitzkrieg Bop', 'Monkey Wrench', 'Best of You', 'Dirty Water', 'Under Pressure', 'Everlong']\n"
     ]
    }
   ],
   "source": [
    "w = Text(value='',\n",
    "        description='URL: ',\n",
    "        placeholder='Paste URL here',\n",
    "        layout=Layout(width='100%'))\n",
    "display(w)\n",
    "w.observe(get_setlist, names='value')"
   ]
  },
  {
   "cell_type": "markdown",
   "metadata": {},
   "source": [
    "Example setlist.fm URL:\n",
    "https://www.setlist.fm/setlist/foo-fighters/2017/colonial-life-arena-columbia-sc-4be3d7e2.html"
   ]
  },
  {
   "cell_type": "code",
   "execution_count": null,
   "metadata": {},
   "outputs": [],
   "source": []
  }
 ],
 "metadata": {
  "kernelspec": {
   "display_name": "Python 3",
   "language": "python",
   "name": "python3"
  },
  "language_info": {
   "codemirror_mode": {
    "name": "ipython",
    "version": 3
   },
   "file_extension": ".py",
   "mimetype": "text/x-python",
   "name": "python",
   "nbconvert_exporter": "python",
   "pygments_lexer": "ipython3",
   "version": "3.6.3"
  }
 },
 "nbformat": 4,
 "nbformat_minor": 2
}
