{
 "cells": [
  {
   "cell_type": "markdown",
   "metadata": {},
   "source": [
    "### Imports"
   ]
  },
  {
   "cell_type": "code",
   "execution_count": 1,
   "metadata": {},
   "outputs": [],
   "source": [
    "from artistplaylist import ArtistPlaylist\n",
    "import event_scraper\n",
    "import pprint"
   ]
  },
  {
   "cell_type": "markdown",
   "metadata": {},
   "source": [
    "### Get Events"
   ]
  },
  {
   "cell_type": "code",
   "execution_count": 6,
   "metadata": {},
   "outputs": [
    {
     "name": "stdout",
     "output_type": "stream",
     "text": [
      "Found 10 events\n",
      "--------------------------------------------------\n",
      "2017-11-05  Phoebe Bridgers                    \n",
      "2017-11-05  Fury Hc                            \n",
      "2017-11-05  Forced Order                       \n",
      "2017-11-05  Lock                               \n",
      "2017-11-05  Glory                              \n",
      "2017-11-05  Unexpressed                        \n",
      "2017-11-05  Fury                               \n",
      "2017-11-05  Orphan                             \n",
      "2017-11-05  The Broken Crowns Tour             \n",
      "2017-11-05  Charlotte DJ Set                   \n"
     ]
    }
   ],
   "source": [
    "DAYS = 1\n",
    "MAX_EVENTS = 10\n",
    "\n",
    "events = event_scraper.get_events(DAYS, MAX_EVENTS)\n",
    "print(\"Found {0} events\".format(len(events)))\n",
    "print('-' * 50)\n",
    "for ev in events:\n",
    "    print('{}  {:35}'.format(ev['date'], ev['artist']))"
   ]
  },
  {
   "cell_type": "markdown",
   "metadata": {},
   "source": [
    "### Instantiate ArtistPlaylist"
   ]
  },
  {
   "cell_type": "code",
   "execution_count": null,
   "metadata": {},
   "outputs": [],
   "source": [
    "ap = ArtistPlaylist()\n",
    "\n",
    "song_ids = []\n",
    "for ev in events:\n",
    "    songs = ap.songs_from_artist(ev['artist'])\n",
    "    result = None\n",
    "    sid = None\n",
    "    if songs:\n",
    "        sid = songs[0]['storeId']\n",
    "        song_ids.append(sid)\n",
    "        result = songs[0]['genre']\n",
    "    print(' -- '.join([ev['artist'], str(sid) , str(result)]))"
   ]
  },
  {
   "cell_type": "code",
   "execution_count": null,
   "metadata": {},
   "outputs": [],
   "source": []
  },
  {
   "cell_type": "code",
   "execution_count": null,
   "metadata": {},
   "outputs": [],
   "source": [
    "import ipywidgets as widgets\n",
    "from IPython.display import display\n",
    "button_pub = widgets.Button(description=\"Publish Playlist\")\n",
    "button_del = widgets.Button(description=\"Delete Playlist\")\n",
    "display(button_pub, button_del)\n",
    "\n",
    "PUBLISH_PUBLICALLY = True\n",
    "\n",
    "def pub_button_clicked(b):\n",
    "    ap.create_playlist(song_ids, 'Austin Live Artists - V0.1', public=PUBLISH_PUBLICALLY)\n",
    "    print(\"Published playlist\")\n",
    "    \n",
    "def del_button_clicked(b):\n",
    "    ap.delete_playlist()\n",
    "    print(\"Deleted playlist\")\n",
    "\n",
    "button_pub.on_click(pub_button_clicked)\n",
    "button_del.on_click(del_button_clicked)"
   ]
  },
  {
   "cell_type": "code",
   "execution_count": null,
   "metadata": {},
   "outputs": [],
   "source": []
  }
 ],
 "metadata": {
  "kernelspec": {
   "display_name": "Python 3",
   "language": "python",
   "name": "python3"
  },
  "language_info": {
   "codemirror_mode": {
    "name": "ipython",
    "version": 3
   },
   "file_extension": ".py",
   "mimetype": "text/x-python",
   "name": "python",
   "nbconvert_exporter": "python",
   "pygments_lexer": "ipython3",
   "version": "3.6.0"
  }
 },
 "nbformat": 4,
 "nbformat_minor": 2
}
