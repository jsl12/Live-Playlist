{
 "cells": [
  {
   "cell_type": "code",
   "execution_count": 1,
   "metadata": {},
   "outputs": [
    {
     "name": "stdout",
     "output_type": "stream",
     "text": [
      "Found 10 events\n"
     ]
    }
   ],
   "source": [
    "from artistplaylist import ArtistPlaylist\n",
    "import event_scraper\n",
    "import pprint\n",
    "\n",
    "events = event_scraper.get_events(1, 10)\n",
    "print(\"Found {0} events\".format(len(events)))"
   ]
  },
  {
   "cell_type": "code",
   "execution_count": 2,
   "metadata": {},
   "outputs": [
    {
     "name": "stdout",
     "output_type": "stream",
     "text": [
      "Autograf and Ayokay\n",
      "Angelo Moore and the Brand New Step\n",
      "Charlotte DJ Set\n",
      "Lil Mike & Funny Bone, Lil Mike & FunnyBone\n",
      "Carter Arrington\n",
      "Young and Rusty\n",
      "Tiarra Girls, Grupo Fantasma, Bombasta and 3 more...\n",
      "Teddy Long Music\n",
      "Werefoot, Ayasoltec, Toulca and 6 more...\n",
      "Oscar Ornelas\n"
     ]
    }
   ],
   "source": [
    "for ev in events:\n",
    "    print(ev['artist'])"
   ]
  },
  {
   "cell_type": "code",
   "execution_count": 3,
   "metadata": {},
   "outputs": [
    {
     "name": "stderr",
     "output_type": "stream",
     "text": [
      "INFO:gmusicapi.Mobileclient1:!-- begin debug log --!\n",
      "INFO:gmusicapi.Mobileclient1:version: 10.1.2\n",
      "INFO:gmusicapi.Mobileclient1:logging to: C:\\Users\\fusiv\\AppData\\Local\\Simon Weber\\gmusicapi\\Logs\\gmusicapi.log\n",
      "INFO:gmusicapi.Mobileclient1:initialized\n",
      "INFO:gmusicapi.Mobileclient1:logged out\n",
      "INFO:gmusicapi.Mobileclient1:authenticated\n",
      "INFO:gmusicapi.Mobileclient1:subscribed\n"
     ]
    },
    {
     "name": "stdout",
     "output_type": "stream",
     "text": [
      "Autograf and Ayokay -- None -- None\n",
      "Angelo Moore and the Brand New Step -- T2vp2yooyjrcim5emvwhi3rmnm4 -- Jazz\n",
      "Charlotte DJ Set -- None -- None\n",
      "Lil Mike & Funny Bone, Lil Mike & FunnyBone -- Tltlsyiway6ahed42y57ylpjv7u -- Hip-Hop/Rap\n",
      "Carter Arrington -- Tsdokfkhbxoddydojsej4vikq4m -- Hip-Hop/Rap\n",
      "Young and Rusty -- T5k5buy62iqgsv5lvqtk4o35nwy -- Vocal/Easy Listening\n",
      "Tiarra Girls, Grupo Fantasma, Bombasta and 3 more... -- None -- None\n",
      "Teddy Long Music -- T3g3r74to6xokh2hxclb2mccfsq -- Pop\n",
      "Werefoot, Ayasoltec, Toulca and 6 more... -- None -- None\n",
      "Oscar Ornelas -- None -- None\n"
     ]
    }
   ],
   "source": [
    "ap = ArtistPlaylist()\n",
    "\n",
    "song_ids = []\n",
    "for ev in events:\n",
    "    songs = ap.songs_from_artist(ev['artist'])\n",
    "    result = None\n",
    "    sid = None\n",
    "    if songs:\n",
    "        sid = songs[0]['storeId']\n",
    "        song_ids.append(sid)\n",
    "        result = songs[0]['genre']\n",
    "    print(' -- '.join([ev['artist'], str(sid) , str(result)]))"
   ]
  },
  {
   "cell_type": "code",
   "execution_count": 5,
   "metadata": {},
   "outputs": [
    {
     "data": {
      "application/vnd.jupyter.widget-view+json": {
       "model_id": "d18895fd38064507864f712ec78dea08",
       "version_major": 2,
       "version_minor": 0
      },
      "text/html": [
       "<p>Failed to display Jupyter Widget of type <code>Button</code>.</p>\n",
       "<p>\n",
       "  If you're reading this message in Jupyter Notebook or JupyterLab, it may mean\n",
       "  that the widgets JavaScript is still loading. If this message persists, it\n",
       "  likely means that the widgets JavaScript library is either not installed or\n",
       "  not enabled. See the <a href=\"https://ipywidgets.readthedocs.io/en/stable/user_install.html\">Jupyter\n",
       "  Widgets Documentation</a> for setup instructions.\n",
       "</p>\n",
       "<p>\n",
       "  If you're reading this message in another notebook frontend (for example, a static\n",
       "  rendering on GitHub or <a href=\"https://nbviewer.jupyter.org/\">NBViewer</a>),\n",
       "  it may mean that your frontend doesn't currently support widgets.\n",
       "</p>\n"
      ],
      "text/plain": [
       "Button(description='Publish Playlist', style=ButtonStyle())"
      ]
     },
     "metadata": {},
     "output_type": "display_data"
    }
   ],
   "source": [
    "import ipywidgets as widgets\n",
    "from IPython.display import display\n",
    "button = widgets.Button(description=\"Publish Playlist\")\n",
    "display(button)\n",
    "\n",
    "PUBLISH_PUBLICALLY = True\n",
    "\n",
    "def on_button_clicked(b):\n",
    "    ap.create_playlist(song_ids, 'Austin Live Artists - V0.1', public=PUBLISH_PUBLICALLY)\n",
    "    print(\"Published playlist\")\n",
    "\n",
    "button.on_click(on_button_clicked)"
   ]
  },
  {
   "cell_type": "code",
   "execution_count": null,
   "metadata": {},
   "outputs": [],
   "source": []
  }
 ],
 "metadata": {
  "kernelspec": {
   "display_name": "Python 3",
   "language": "python",
   "name": "python3"
  },
  "language_info": {
   "codemirror_mode": {
    "name": "ipython",
    "version": 3
   },
   "file_extension": ".py",
   "mimetype": "text/x-python",
   "name": "python",
   "nbconvert_exporter": "python",
   "pygments_lexer": "ipython3",
   "version": "3.6.1"
  }
 },
 "nbformat": 4,
 "nbformat_minor": 2
}
