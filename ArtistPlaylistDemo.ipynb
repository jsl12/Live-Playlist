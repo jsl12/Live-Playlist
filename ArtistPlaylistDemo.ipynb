{
 "cells": [
  {
   "cell_type": "code",
   "execution_count": 1,
   "metadata": {},
   "outputs": [
    {
     "name": "stdout",
     "output_type": "stream",
     "text": [
      "Found 10 events\n"
     ]
    }
   ],
   "source": [
    "from artistplaylist import ArtistPlaylist\n",
    "import event_scraper\n",
    "import pprint\n",
    "\n",
    "events = event_scraper.get_events(1, 10)\n",
    "print(\"Found {0} events\".format(len(events)))"
   ]
  },
  {
   "cell_type": "code",
   "execution_count": 2,
   "metadata": {},
   "outputs": [
    {
     "name": "stdout",
     "output_type": "stream",
     "text": [
      "Phoebe Bridgers\n",
      "Fury Hc\n",
      "Forced Order\n",
      "Lock\n",
      "Glory\n",
      "Unexpressed\n",
      "Fury\n",
      "Orphan\n",
      "The Broken Crowns Tour\n",
      "Charlotte DJ Set\n"
     ]
    }
   ],
   "source": [
    "for ev in events:\n",
    "    print(ev['artist'])"
   ]
  },
  {
   "cell_type": "code",
   "execution_count": 3,
   "metadata": {},
   "outputs": [
    {
     "name": "stderr",
     "output_type": "stream",
     "text": [
      "INFO:gmusicapi.Mobileclient1:!-- begin debug log --!\n",
      "INFO:gmusicapi.Mobileclient1:version: 10.1.2\n",
      "INFO:gmusicapi.Mobileclient1:logging to: C:\\Users\\lanca_000\\AppData\\Local\\Simon Weber\\gmusicapi\\Logs\\gmusicapi.log\n",
      "INFO:gmusicapi.Mobileclient1:initialized\n",
      "INFO:gmusicapi.Mobileclient1:logged out\n",
      "INFO:gmusicapi.Mobileclient1:authenticated\n",
      "INFO:gmusicapi.Mobileclient1:subscribed\n"
     ]
    },
    {
     "name": "stdout",
     "output_type": "stream",
     "text": [
      "Phoebe Bridgers -- Twzqti3pd6qrujy4yte7ya5hwom -- Alternative/Indie\n",
      "Fury Hc -- None -- None\n",
      "Forced Order -- Tvkijtkjsrm7c4pqdpkiif34mlm -- Alternative/Indie\n",
      "Lock -- Tzhqjnsfa6arrwvsjoialp7nquy -- Pop\n",
      "Glory -- Tc2erkdo6wqs5ecdjdoajxoncom -- Soundtracks\n",
      "Unexpressed -- Tj2jnnwwrxhaborhurvmflhqivi -- Jazz\n",
      "Fury -- Tb4jgpiqhkuxcrh3ink5wkglslu -- Rock\n",
      "Orphan -- Tro6ruk2vb6n4psgwzy72dtmitu -- Classic Rock\n",
      "The Broken Crowns Tour -- Ta4wpolxpk4albf3wee2slobzha -- Reggae\n",
      "Charlotte DJ Set -- None -- None\n"
     ]
    }
   ],
   "source": [
    "ap = ArtistPlaylist()\n",
    "\n",
    "song_ids = []\n",
    "for ev in events:\n",
    "    songs = ap.songs_from_artist(ev['artist'])\n",
    "    result = None\n",
    "    sid = None\n",
    "    if songs:\n",
    "        sid = songs[0]['storeId']\n",
    "        song_ids.append(sid)\n",
    "        result = songs[0]['genre']\n",
    "    print(' -- '.join([ev['artist'], str(sid) , str(result)]))"
   ]
  },
  {
   "cell_type": "code",
   "execution_count": 5,
   "metadata": {},
   "outputs": [
    {
     "data": {
      "application/vnd.jupyter.widget-view+json": {
       "model_id": "9cf44fdf1ef74aea84904928a5941fc4",
       "version_major": 2,
       "version_minor": 0
      },
      "text/html": [
       "<p>Failed to display Jupyter Widget of type <code>Button</code>.</p>\n",
       "<p>\n",
       "  If you're reading this message in Jupyter Notebook or JupyterLab, it may mean\n",
       "  that the widgets JavaScript is still loading. If this message persists, it\n",
       "  likely means that the widgets JavaScript library is either not installed or\n",
       "  not enabled. See the <a href=\"https://ipywidgets.readthedocs.io/en/stable/user_install.html\">Jupyter\n",
       "  Widgets Documentation</a> for setup instructions.\n",
       "</p>\n",
       "<p>\n",
       "  If you're reading this message in another notebook frontend (for example, a static\n",
       "  rendering on GitHub or <a href=\"https://nbviewer.jupyter.org/\">NBViewer</a>),\n",
       "  it may mean that your frontend doesn't currently support widgets.\n",
       "</p>\n"
      ],
      "text/plain": [
       "Button(description='Publish Playlist', style=ButtonStyle())"
      ]
     },
     "metadata": {},
     "output_type": "display_data"
    },
    {
     "data": {
      "application/vnd.jupyter.widget-view+json": {
       "model_id": "068cf4f4d14e40f88fcf30b51d757d50",
       "version_major": 2,
       "version_minor": 0
      },
      "text/html": [
       "<p>Failed to display Jupyter Widget of type <code>Button</code>.</p>\n",
       "<p>\n",
       "  If you're reading this message in Jupyter Notebook or JupyterLab, it may mean\n",
       "  that the widgets JavaScript is still loading. If this message persists, it\n",
       "  likely means that the widgets JavaScript library is either not installed or\n",
       "  not enabled. See the <a href=\"https://ipywidgets.readthedocs.io/en/stable/user_install.html\">Jupyter\n",
       "  Widgets Documentation</a> for setup instructions.\n",
       "</p>\n",
       "<p>\n",
       "  If you're reading this message in another notebook frontend (for example, a static\n",
       "  rendering on GitHub or <a href=\"https://nbviewer.jupyter.org/\">NBViewer</a>),\n",
       "  it may mean that your frontend doesn't currently support widgets.\n",
       "</p>\n"
      ],
      "text/plain": [
       "Button(description='Delete Playlist', style=ButtonStyle())"
      ]
     },
     "metadata": {},
     "output_type": "display_data"
    },
    {
     "name": "stdout",
     "output_type": "stream",
     "text": [
      "Published playlist\n",
      "Deleted playlist\n"
     ]
    }
   ],
   "source": [
    "import ipywidgets as widgets\n",
    "from IPython.display import display\n",
    "button_pub = widgets.Button(description=\"Publish Playlist\")\n",
    "button_del = widgets.Button(description=\"Delete Playlist\")\n",
    "display(button_pub, button_del)\n",
    "\n",
    "PUBLISH_PUBLICALLY = True\n",
    "\n",
    "def pub_button_clicked(b):\n",
    "    ap.create_playlist(song_ids, 'Austin Live Artists - V0.1', public=PUBLISH_PUBLICALLY)\n",
    "    print(\"Published playlist\")\n",
    "    \n",
    "def del_button_clicked(b):\n",
    "    ap.delete_playlist()\n",
    "    print(\"Deleted playlist\")\n",
    "\n",
    "button_pub.on_click(pub_button_clicked)\n",
    "button_del.on_click(del_button_clicked)"
   ]
  },
  {
   "cell_type": "code",
   "execution_count": null,
   "metadata": {},
   "outputs": [],
   "source": []
  }
 ],
 "metadata": {
  "kernelspec": {
   "display_name": "Python 3",
   "language": "python",
   "name": "python3"
  },
  "language_info": {
   "codemirror_mode": {
    "name": "ipython",
    "version": 3
   },
   "file_extension": ".py",
   "mimetype": "text/x-python",
   "name": "python",
   "nbconvert_exporter": "python",
   "pygments_lexer": "ipython3",
   "version": "3.6.0"
  }
 },
 "nbformat": 4,
 "nbformat_minor": 2
}
