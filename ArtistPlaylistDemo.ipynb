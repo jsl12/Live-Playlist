{
 "cells": [
  {
   "cell_type": "markdown",
   "metadata": {},
   "source": [
    "# Imports"
   ]
  },
  {
   "cell_type": "code",
   "execution_count": null,
   "metadata": {},
   "outputs": [],
   "source": [
    "from artistplaylist import ArtistPlaylist\n",
    "import event_scraper\n",
    "import pprint\n",
    "\n",
    "DAYS = 7\n",
    "MAX_EVENTS = 150\n",
    "MAX_SONG_COUNT = 10\n",
    "EXCLUDE = ['Country', 'World', 'Latin', 'Hip-Hop', 'Gospel', 'Holiday', 'Christian', 'Children', 'Folk']"
   ]
  },
  {
   "cell_type": "markdown",
   "metadata": {},
   "source": [
    "# Get Events"
   ]
  },
  {
   "cell_type": "code",
   "execution_count": null,
   "metadata": {},
   "outputs": [],
   "source": [
    "events = event_scraper.get_events(DAYS, MAX_EVENTS)\n",
    "print(\"Found {0} events\".format(len(events)))\n",
    "print('-' * 50)\n",
    "for ev in events:\n",
    "    print('{}  {:35}'.format(ev['date'], ev['artist']))"
   ]
  },
  {
   "cell_type": "markdown",
   "metadata": {},
   "source": [
    "# ArtistPlaylist"
   ]
  },
  {
   "cell_type": "markdown",
   "metadata": {},
   "source": [
    "## Print Functions"
   ]
  },
  {
   "cell_type": "code",
   "execution_count": null,
   "metadata": {},
   "outputs": [],
   "source": [
    "def print_soung_counts(results_dict):\n",
    "    print('-' * 50)\n",
    "    for artist in list(results_dict.keys()):\n",
    "        print('{:<3}songs|{}'.format(len(results_dict[artist]), artist))\n",
    "\n",
    "def print_song_genres(song_list):\n",
    "    print([song.get('genre', None) for song in song_list])\n",
    "    \n",
    "def print_song_list(song_list):\n",
    "    s = '{:20}|{:35}|{:45}'\n",
    "    print(s.format('Artist', 'Song Title', 'Genre'))\n",
    "    for song in song_list:\n",
    "        try:\n",
    "            print(s.format(song['artist'], song['title'], str(song['genre'])))\n",
    "        except KeyError:\n",
    "            pass"
   ]
  },
  {
   "cell_type": "markdown",
   "metadata": {},
   "source": [
    "## Instantiate"
   ]
  },
  {
   "cell_type": "code",
   "execution_count": null,
   "metadata": {
    "scrolled": false
   },
   "outputs": [],
   "source": [
    "import saving_artistplaylist\n",
    "ap = saving_artistplaylist.SavingArtistPlaylist(saving_artistplaylist.SAVE_FILE)\n",
    "#ap = ArtistPlaylist()\n",
    "\n",
    "for ev in events:\n",
    "    ap.search(ev['artist'])\n",
    "    print('{:<3}songs|{}'.format(len(ap.results[ev['artist']]), ev['artist']))   "
   ]
  },
  {
   "cell_type": "markdown",
   "metadata": {},
   "source": [
    "### First Look at Result Genres"
   ]
  },
  {
   "cell_type": "code",
   "execution_count": null,
   "metadata": {},
   "outputs": [],
   "source": [
    "artists = list(ap.results.keys())\n",
    "for a in artists:\n",
    "    print('-' * 50)\n",
    "    print(a)\n",
    "    print_song_list(ap.results[a])"
   ]
  },
  {
   "cell_type": "markdown",
   "metadata": {},
   "source": [
    "## Filter Functions"
   ]
  },
  {
   "cell_type": "markdown",
   "metadata": {},
   "source": [
    "### Filters for entire results"
   ]
  },
  {
   "cell_type": "code",
   "execution_count": null,
   "metadata": {},
   "outputs": [],
   "source": [
    "def filter_no_results(results_dict):\n",
    "    return {artist: song_list for artist, song_list in results_dict.items() if not len(results_dict[artist]) == 0}\n",
    "\n",
    "def filter_artist_mismatch(results_dict):\n",
    "    return {artist: [song for song in song_list if song['artist'] == artist] for artist, song_list in results_dict.items()}\n",
    "\n",
    "def filter_song_count(results_dict, min_count):\n",
    "    return {artist: song_list for artist, song_list in results_dict.items() if len(song_list) >= min_count}\n",
    "\n",
    "def filter_genre_blacklist(results_dict, blacklist):\n",
    "    return {artist: songlist_filter_genre(song_list, blacklist) for artist, song_list in results_dict.items()}"
   ]
  },
  {
   "cell_type": "markdown",
   "metadata": {},
   "source": [
    "### Filters for song lists"
   ]
  },
  {
   "cell_type": "code",
   "execution_count": null,
   "metadata": {},
   "outputs": [],
   "source": [
    "def songlist_filter_genre(song_list, blacklist):\n",
    "    return [song for song in filter_no_genre(song_list) if not any([ex in song.get('genre', ex) for ex in blacklist])]\n",
    "\n",
    "def filter_no_genre(song_list):\n",
    "    return [song for song in song_list if song.get('genre', None) is not None]"
   ]
  },
  {
   "cell_type": "markdown",
   "metadata": {},
   "source": [
    "### Demonstrate filters"
   ]
  },
  {
   "cell_type": "code",
   "execution_count": null,
   "metadata": {
    "scrolled": true
   },
   "outputs": [],
   "source": [
    "print('-' * 50)\n",
    "print(\"Starting:\")\n",
    "r = ap.results.copy()\n",
    "print_soung_counts(r)\n",
    "\n",
    "print('-' * 50)\n",
    "print(\"Filtering for mismatched artists\")\n",
    "r = filter_artist_mismatch(r)\n",
    "# print_soung_counts(r)\n",
    "\n",
    "print('-' * 50)\n",
    "print(\"Filtering for the genre blacklist\")\n",
    "r = filter_genre_blacklist(r, EXCLUDE)\n",
    "# print_soung_counts(r)\n",
    "\n",
    "print('-' * 50)\n",
    "print(\"Filtering for the minimum song count\")\n",
    "r = filter_song_count(r, 10)\n",
    "# print_soung_counts(r)\n",
    "\n",
    "print('-' * 50)\n",
    "print(\"Cleaning up the results\")\n",
    "r = filter_no_results(r)\n",
    "print_soung_counts(r)"
   ]
  },
  {
   "cell_type": "markdown",
   "metadata": {},
   "source": [
    "### Close look at results"
   ]
  },
  {
   "cell_type": "code",
   "execution_count": null,
   "metadata": {
    "scrolled": true
   },
   "outputs": [],
   "source": [
    "artists = list(r.keys())\n",
    "for a in artists:\n",
    "    print('-' * 50)\n",
    "    print(a)\n",
    "    print_song_list(r[a])"
   ]
  },
  {
   "cell_type": "markdown",
   "metadata": {},
   "source": [
    "# Create list of song ids"
   ]
  },
  {
   "cell_type": "code",
   "execution_count": null,
   "metadata": {},
   "outputs": [],
   "source": [
    "ap.save()\n",
    "song_ids = [r[artist][0]['storeId'] for artist in list(r.keys())][:MAX_SONG_COUNT]\n",
    "print(song_ids)"
   ]
  },
  {
   "cell_type": "markdown",
   "metadata": {},
   "source": [
    "# Publishing Widget"
   ]
  },
  {
   "cell_type": "code",
   "execution_count": null,
   "metadata": {},
   "outputs": [],
   "source": [
    "import ipywidgets as widgets\n",
    "from IPython.display import display\n",
    "button_pub = widgets.Button(description=\"Publish Playlist\")\n",
    "button_del = widgets.Button(description=\"Delete Playlist\")\n",
    "display(button_pub, button_del)\n",
    "\n",
    "PUBLISH_PUBLICALLY = True\n",
    "\n",
    "def pub_button_clicked(b):\n",
    "    ap.create_playlist(song_ids, 'Austin Live Artists - V0.1', public=PUBLISH_PUBLICALLY)\n",
    "    print(\"Published playlist\")\n",
    "    \n",
    "def del_button_clicked(b):\n",
    "    ap.delete_playlist()\n",
    "    print(\"Deleted playlist\")\n",
    "\n",
    "button_pub.on_click(pub_button_clicked)\n",
    "button_del.on_click(del_button_clicked)"
   ]
  }
 ],
 "metadata": {
  "kernelspec": {
   "display_name": "Python 3",
   "language": "python",
   "name": "python3"
  },
  "language_info": {
   "codemirror_mode": {
    "name": "ipython",
    "version": 3
   },
   "file_extension": ".py",
   "mimetype": "text/x-python",
   "name": "python",
   "nbconvert_exporter": "python",
   "pygments_lexer": "ipython3",
   "version": "3.6.1"
  }
 },
 "nbformat": 4,
 "nbformat_minor": 2
}
