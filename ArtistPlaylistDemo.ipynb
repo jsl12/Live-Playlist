{
 "cells": [
  {
   "cell_type": "code",
   "execution_count": 1,
   "metadata": {},
   "outputs": [
    {
     "name": "stdout",
     "output_type": "stream",
     "text": [
      "Found 100 events\n"
     ]
    }
   ],
   "source": [
    "from artistplaylist import ArtistPlaylist\n",
    "import event_scraper\n",
    "import pprint\n",
    "\n",
    "events = event_scraper.get_events(10, 100)\n",
    "print(\"Found {0} events\".format(len(events)))"
   ]
  },
  {
   "cell_type": "code",
   "execution_count": 2,
   "metadata": {},
   "outputs": [
    {
     "name": "stdout",
     "output_type": "stream",
     "text": [
      "2017-11-04 -- Dharma Kings\n",
      "2017-11-04 -- Dongle\n",
      "2017-11-04 -- Wizard U.\n",
      "2017-11-04 -- DOJA CAT\n",
      "2017-11-04 -- Lug\n",
      "2017-11-04 -- Death Of A Dream\n",
      "2017-11-04 -- Shadow Spectrum\n",
      "2017-11-04 -- Nocebos\n",
      "2017-11-04 -- Fear A New Day\n",
      "2017-11-04 -- Jim Gaffigan\n",
      "2017-11-04 -- Town Mountain\n",
      "2017-11-04 -- Beat Root Revival\n",
      "2017-11-04 -- Julie Nolen\n",
      "2017-11-04 -- Danny Click Full Band Shows\n",
      "2017-11-04 -- LezzDance\n"
     ]
    }
   ],
   "source": [
    "for ev in events[-15:]:\n",
    "    print(' -- '.join([str(ev['date']), ev['artist']]))"
   ]
  },
  {
   "cell_type": "code",
   "execution_count": 4,
   "metadata": {
    "scrolled": false
   },
   "outputs": [
    {
     "name": "stderr",
     "output_type": "stream",
     "text": [
      "INFO:gmusicapi.Mobileclient2:initialized\n",
      "INFO:gmusicapi.Mobileclient2:logged out\n",
      "INFO:gmusicapi.Mobileclient2:authenticated\n",
      "INFO:gmusicapi.Mobileclient2:subscribed\n"
     ]
    },
    {
     "name": "stdout",
     "output_type": "stream",
     "text": [
      "Autograf and Ayokay -- None -- None\n",
      "Angelo Moore and the Brand New Step -- None -- None\n",
      "Charlotte DJ Set -- None -- None\n",
      "Lil Mike & Funny Bone, Lil Mike & FunnyBone -- None -- None\n",
      "Carter Arrington -- None -- None\n",
      "Young and Rusty -- Tp5gsmrdmdooy4uhpaqayn3rkne -- Country\n",
      "Tiarra Girls, Grupo Fantasma, Bombasta and 3 more... -- None -- None\n",
      "Teddy Long Music -- None -- None\n",
      "Werefoot, Ayasoltec, Toulca and 6 more... -- None -- None\n",
      "Oscar Ornelas -- None -- None\n",
      "Urban Pioneers -- Tvues3s7oe7or6ilv5xmjwvlwxy -- Classic Country\n",
      "Tara Williamson Music -- None -- None\n",
      "Riders Against the Storm -- T2fatrs7urfxme5536txhkis2bq -- Hip-Hop/Rap\n",
      "Bamako Airlines -- T3i3wqj3swp76tvmsnnwtb3t52a -- World\n",
      "Abou Sylla -- Tckaex4ma5tztzekeicsfqbb4za -- World\n",
      "Roots Ridim -- None -- None\n",
      "DJ Truth -- None -- None\n",
      "Emman LeGrand -- T2uitmshamhr3fugknjpi5wxqtq -- World\n",
      "the African Rhythmix -- None -- None\n"
     ]
    },
    {
     "name": "stderr",
     "output_type": "stream",
     "text": [
      "ERROR:gmusicapi.protocol.shared:the response format for Search was not recognized.\n",
      "\n",
      "Value {'kind': 'sj#radioStation', 'name': 'Blogged 50', 'description': 'A curated selection of the best songs trending on the Internet right now.', 'seed': {'kind': 'sj#radioSeed', 'curatedStationId': 'Lj7guwddznce3uza7ox5w5ahruy', 'seedType': '9'}, 'stationSeeds': [{'kind': 'sj#radioSeed', 'curatedStationId': 'Lj7guwddznce3uza7ox5w5ahruy', 'seedType': '9'}], 'imageUrls': [{'kind': 'sj#imageRef', 'url': 'http://lh3.googleusercontent.com/JDYALzRXMASteXamftOuzqyqGFonNMKee3oKUS3DFuBKmBP05hPG1ANobJRoweIilTn0nEzIUlc', 'aspectRatio': '1', 'autogen': False}, {'kind': 'sj#imageRef', 'url': 'http://lh3.googleusercontent.com/OvzDMbtDhLUnJbPguaM5f04a8eqRX5V5nfR_eF4FVYfV2zvXJIpmAYJvTxCNzwu4_FzVJMQg2w', 'aspectRatio': '1', 'autogen': False}, {'kind': 'sj#imageRef', 'url': 'http://lh3.googleusercontent.com/4FkSx54p1zKKoXhQ6riGcQNMOYOmpQmYkBfXfKPViGW59aomVI6OwqXO3JGvY9ZdSzQNAWpPz38', 'aspectRatio': '1', 'autogen': False}, {'kind': 'sj#imageRef', 'url': 'http://lh3.googleusercontent.com/aAwLp3QT2JYatUVdzO2B3MknauhHl_nf8pnMxoYU0KGnvYI88cKiHLuz_qEs3fXKDj_myYFMTg', 'aspectRatio': '1', 'autogen': False}, {'kind': 'sj#imageRef', 'url': 'http://lh3.googleusercontent.com/-6ePLO7XUYlxfks805fR8L8ffoJqpqu0iMI-QSLEkxm7E6OBW6n-4Kcm9zBf4OVsrjdu1fqH', 'aspectRatio': '1', 'autogen': False}, {'kind': 'sj#imageRef', 'url': 'http://lh3.googleusercontent.com/ufwZPpniUKPP40IfWyAaRon9HvwBRwHzj0IL_0PId0nlLu1xDMp5sAfgZlEcdSFafppp7JkIWw', 'aspectRatio': '1', 'autogen': False}, {'kind': 'sj#imageRef', 'url': 'http://lh3.googleusercontent.com/0gcZAi6Qcx6JdWfzdU19NedeSqxoiOjJyNccZswszax0EL6A6v3KCOm4b5mOLhKopSJZUOG4', 'aspectRatio': '1', 'autogen': False}, {'kind': 'sj#imageRef', 'url': 'http://lh3.googleusercontent.com/tWS2mGuuLHD7OPj26EF2Bqw_8bsgZpLc8abkdXsJXiY6uDxWPIZdw_B0G4O-jA9mczPphy_W', 'aspectRatio': '1', 'autogen': False}], 'compositeArtRefs': [{'kind': 'sj#imageRef', 'url': 'http://lh3.googleusercontent.com/qaTuty4ganxZmIzVGmWfn1g0tG9iMt7j2VdMb_pvIaV3TBnqW1L0vY7-VM0', 'aspectRatio': '2'}, {'kind': 'sj#imageRef', 'url': 'http://lh3.googleusercontent.com/-gsyGGJJQ_ChBGb_DlHqb-cYXs4K-uGrtNr9Kcwt2A9f5tqqfBW9iOMc', 'aspectRatio': '1'}], 'skipEventHistory': [], 'contentTypes': ['1'], 'byline': 'By Google Play Music', 'adTargeting': {'keyword': ['newmusic']}} for field '<obj>.entries[179].station' contains additional property 'adTargeting' not defined by 'properties' or 'patternProperties' and additionalProperties  is False\n",
      "\n",
      "First, try the develop branch. If you can recreate this error with the most recent code please [create an issue](http://goo.gl/qbAW8) that includes the above ValidationException and the following request/response:\n",
      "{'method': 'GET', 'url': 'https://mclients.googleapis.com/sj/v2.5/query', 'params': {'ct': '1,2,3,4,6,7,8,9', 'q': 'Better Now', 'max-results': 50, 'hl': 'en_US', 'dv': 0, 'tier': 'aa'}, 'headers': {'Authorization': '<omitted>'}}\n",
      "\n",
      "'{\"kind\":\"sj#searchresponse\",\"entries\":[{\"type\":\"1\",\"track\":{\"kind\":\"sj#track\",\"title\":\"Better Now\",\"artist\":\"Collective Soul\",\"composer\":\"\",\"album\":\"Youth\",\"albumArtist\":\"Collective Soul\",\"year\":2004,\"trackNumber\":1,\"genre\":\"Hard Rock\",\"durationMillis\":\"194000\",\"albumArtRef\":[{\"kind\":\"sj#imageRef\",\"url\":\"http://lh3.ggpht.com/_q3LE33xEpql1ipgbZWWJO1b9llwibOBpbSg9f3TWejMz_j3OtGCLYtzxPYuT4vMdN5CQwv4Zw\",\"aspectRatio\":\"1\",\"autogen\":false}],\"discNumber\":1,\"estimatedSize\":\"7782433\",\"trackType\":\"7\",\"storeId\":\"Tcuwhr6up5esjtrlzbdmldwcn6q\",\"albumId\":\"2tnd57rdbhzllxwmiwau2ihthy\",\"artistId\":[\"bx2ffzcjlchkppsscr7omt66s4\"],\"nid\":\"cuwhr6up5esjtrlzbdmldwcn6q\",\"trackAvailableForSubscription\":true,\"trackAvailableForPurchase\":true,\"albumAvailableForPurchase\":true,\"explicitType\":\"2\"},\"navigational_result\":true,\"navigational_confidence\":1.5854881250546193},{\"type\":\"1\",\"track\":{\"kind\":\"sj#track\",\"title\":\"Better Now\",\"artist\":\"Collective Soul\",\"composer\":\"\",\"album\":\"Home\",\"albumArtist\":\"Collective Soul\",\"year\":2006,\"trackNumber\":19,\"genre\":\"Rock\",\"durationMillis\":\"427000\",\"albumArtRef\":[{\"kind\":\"sj#imageRef\",\"url\":\"http://lh6.ggpht.com/NCi2_AIwQ0Wo-bEZCgk52hMJe-vcX62Vq-MewyKVWDA8DLGDGpJpKtSNdH6vMxzY2XMqwMaQgg\",\"aspectRatio\":\"1\",\"autogen\":false}],\"discNumber\":1,\"estimatedSize\":\"17082024\",\"trackType\":\"7\",\"storeId\":\"T4l74c44cizi3zf4weuruvvbzma\",\"albumId\":\"3d2nuw5v6lxc5zoespmxov3vsy\",\"artistId\":[\"bx2ffzcjlchkppsscr7omt66s4\"],\"nid\":\"4l74c44cizi3zf4weuruvvbzma\",\"trackAvailableForSubscription\":true,\"trackAvailableForPurchase\":true,\"albumAvailableForPurchase\":true,\"explicitType\":\"2\"}},{\"type\":\"1\",\"track\":{\"kind\":\"sj#track\",\"title\":\"Better Now\",\"artist\":\"Rascal Flatts\",\"composer\":\"\",\"album\":\"Still Feels Good\",\"albumArtist\":\"Rascal Flatts\",\"year\":2007,\"trackNumber\":10,\"genre\":\"Contemporary Country\",\"durationMillis\":\"186000\",\"albumArtRef\":[{\"kind\":\"sj#imageRef\",\"url\":\"http://lh5.ggpht.com/OY4LPRQhs43ShJ7CNP2uNkMLA2wyloOgMbRHQZkB6ZE9oYv0xOkW5KaGU_DBBHn6DXOXpcpq\",\"aspectRatio\":\"1\",\"autogen\":false}],\"discNumber\":1,\"estimatedSize\":\"7470002\",\"trackType\":\"7\",\"storeId\":\"Tp2vqaxuzm26xkwwj4c74bf4h2a\",\"albumId\":\"ah7bmtrralcslpidqhri6y3cua\",\"artistId\":[\"aq6bkgsawp7modz7mscanut4em\"],\"nid\":\"p2vqaxuzm26xkwwj4c74bf4h2a\",\"trackAvailableForSubscription\":true,\"trackAvailableForPurchase\":true,\"albumAvailableForPurchase\":true,\"explicitType\":\"2\"}},{\"type\":\"1\",\"track\":{\"kind\":\"sj#track\",\"title\":\"Better Now\",\"artist\":\"CLOVES\",\"composer\":\"\",\"album\":\"Better Now\",\"albumArtist\":\"CLOVES\",\"year\":2016,\"trackNumber\":1,\"genre\":\"Alternative/Indie\",\"durationMillis\":\"232000\",\"albumArtRef\":[{\"kind\":\"sj#imageRef\",\"url\":\"http://lh3.googleusercontent.com/mZ1A655LFhY2sMiGsKQXAXLTYFf0SkLXj7LxAog9rAHiyb_Jvu7vB7pig3oaOkjsUIsw8WAI\",\"aspectRatio\":\"1\",\"autogen\":false}],\"discNumber\":1,\"estimatedSize\":\"9321561\",\"trackType\":\"7\",\"storeId\":\"Tlwsz5ccojd7fm736a56yctjsse\",\"albumId\":\"fjag5wvtvz46pmitbbr4tonrhi\",\"artistId\":[\"lxkyomnitmmefw27gui5rgp2f4\"],\"nid\":\"lwsz5ccojd7fm736a56yctjsse\",\"trackAvailableForSubscription\":true,\"trackAvailableForPurchase\":true,\"albumAvailableForPurchase\":true,\"explicitType\":\"1\"}},{\"type\":\"1\",\"track\":{\"kind\":\"sj#track\",\"title\":\"Better Now (Acoustic)\",\"artist\":\"CLOVES\",\"composer\":\"\",\"album\":\"Better Now (Acoustic)\",\"albumArtist\":\"CLOVES\",\"year\":2016,\"trackNumber\":1,\"genre\":\"Alternative/Indie\",\"durationMillis\":\"234000\",\"albumArtRef\":[{\"kind\":\"sj#imageRef\",\"url\":\"http://lh3.googleusercontent.com/Nnw6N9xzjA_AXTyNTQN0EuLjpQ5OoWqfc9aCKgaU88mJYfpwWmmX0ZAO3SsUqP4UqykueDwbfw\",\"aspectRatio\":\"1\",\"autogen\":false}],\"discNumber\":1,\"estimatedSize\":\"9384255\",\"trackType\":\"7\",\"storeId\":\"Tzhabzarsb5i5rcdhzri7e2rmtq\",\"albumId\":\"wu3dz27m2qf7rnty7lh5hfi5oq\",\"artistId\":[\"lxkyomnitmmefw27gui5rgp2f4\"],\"nid\":\"zhabzarsb5i5rcdhzri7e2rmtq\",\"trackAvailableForSubscription\":true,\"trackAvailableForPurchase\":true,\"albumAvailableForPurchase\":true,\"explicitType\":\"1\"}},{\"type\":\"1\",\"track\":{\"kind\":\"sj#track\",\"title\":\"Better Now\",\"artist\":\"Fox Stevenson\",\"composer\":\"\",\"album\":\"Turn It Up\",\"albumArtist\":\"Fox Stevenson\",\"year\":2014,\"trackNumber\":4,\"genre\":\"Dubstep\",\"durationMillis\":\"311000\",\"albumArtRef\":[{\"kind\":\"sj#imageRef\",\"url\":\"http://lh6.ggpht.com/QGQO6hnweXPHwE1sbLTfRQhaIpxc87y2rZ0CJ3qtg8bg4LA2QP--Hstn-a0O5M5Dt51fAICy\",\"aspectRatio\":\"1\",\"autogen\":false}],\"discNumber\":1,\"estimatedSize\":\"12457300\",\"trackType\":\"7\",\"storeId\":\"Tu7abpvk7a4inyz6cuuk6rls7aa\",\"albumId\":\"nxormy4js266wm6mg7uiujgupu\",\"artistId\":[\"4z552k532kwyv564r6ogeuqtsm\"],\"nid\":\"u7abpvk7a4inyz6cuuk6rls7aa\",\"trackAvailableForSubscription\":true,\"trackAvailableForPurchase\":true,\"albumAvailableForPurchase\":true,\"explicitType\":\"2\"}},{\"type\":\"1\",\"track\":{\"kind\":\"sj#track\",\"title\":\"Better Now\",\"artist\":\"CLOVES\",\"composer\":\"\",\"album\":\"Background Music\",\"albumArtist\":\"Various Artists\",\"year\":2017,\"trackNumber\":14,\"genre\":\"Alternative/Indie\",\"durationMillis\":\"233000\",\"albumArtRef\":[{\"kind\":\"sj#imageRef\",\"url\":\"http://lh3.googleusercontent.com/JZS6BcRtCTcFroe2B175cGINBDHuGTUyJHQYVPnvKh75HL-loIRrOpAEmPHuD5d921aPNeQGYGM\",\"aspectRatio\":\"1\",\"autogen\":false}],\"discNumber\":1,\"estimatedSize\":\"9345604\",\"trackType\":\"7\",\"storeId\":\"Tvkxjxldmwoxfasa5mae4cl4hoe\",\"albumId\":\"vmwbsfp5qenhmn3a2hnyidnamm\",\"artistId\":[\"lxkyomnitmmefw27gui5rgp2f4\"],\"nid\":\"vkxjxldmwoxfasa5mae4cl4hoe\",\"trackAvailableForSubscription\":true,\"trackAvailableForPurchase\":false,\"albumAvailableForPurchase\":false,\"explicitType\":\"1\"}},{\"type\":\"1\",\"track\":{\"kind\":\"sj#track\",\"title\":\"Better Now\",\"artist\":\"The Vespers\",\"composer\":\"\",\"album\":\"The Fourth Wall\",\"albumArtist\":\"The Vespers\",\"year\":2012,\"trackNumber\":1,\"genre\":\"Folk-Rock\",\"durationMillis\":\"219000\",\"albumArtRef\":[{\"kind\":\"sj#imageRef\",\"url\":\"http://lh5.ggpht.com/CW73cej-xN8dUvF0_zJf8Sz7UKHbuJcJW9LD2cxUwo_hail8xPsHA1aq63kf0nxytNDClwOUmtw\",\"aspectRatio\":\"1\",\"autogen\":false}],\"discNumber\":1,\"estimatedSize\":\"8771951\",\"trackType\":\"7\",\"storeId\":\"T3vwx7kvahq22gcs76cvqil7lgq\",\"albumId\":\"ybymigkunv35yngff2anigwawq\",\"artistId\":[\"tj25progckxnd7pbe2jze54524\"],\"nid\":\"3vwx7kvahq22gcs76cvqil7lgq\",\"trackAvailableForSubscription\":true,\"trackAvailableForPurchase\":true,\"albumAvailableForPurchase\":true,\"explicitType\":\"2\"}},{\"type\":\"1\",\"track\":{\"kind\":\"sj#track\",\"title\":\"Better Now\",\"artist\":\"Paul Hardcastle\",\"composer\":\"\",\"album\":\"The Chill Lounge Volume 3\",\"albumArtist\":\"Paul Hardcastle\",\"year\":2015,\"trackNumber\":5,\"genre\":\"Dance/Electronic\",\"durationMillis\":\"247000\",\"albumArtRef\":[{\"kind\":\"sj#imageRef\",\"url\":\"http://lh3.googleusercontent.com/KfXxSQwKKPcR5_NGJcuvbSGUgTOFp7AdWNyCzV8OWDRspiUxRbIOFWyR5lNMik8cgbtjlesd0g\",\"aspectRatio\":\"1\",\"autogen\":false}],\"discNumber\":1,\"estimatedSize\":\"9916108\",\"trackType\":\"7\",\"storeId\":\"Tzv4m2fs2kgabxapfrnmgqs4krq\",\"albumId\":\"w6k2mdyhonwntb27bg4ivsmgjy\",\"artistId\":[\"ttahk3pjoucgzypady43iln5cq\",\"yfnixdjq5v4mjs7osj2cke2ocy\"],\"nid\":\"zv4m2fs2kgabxapfrnmgqs4krq\",\"trackAvailableForSubscription\":true,\"trackAvailableForPurchase\":true,\"albumAvailableForPurchase\":true,\"explicitType\":\"2\"}},{\"type\":\"1\",\"track\":{\"kind\":\"sj#track\",\"title\":\"Right Now\",\"artist\":\"Van Halen\",\"composer\":\"\",\"album\":\"Best Of Volume 1\",\"albumArtist\":\"Van Halen\",\"year\":1996,\"trackNumber\":13,\"genre\":\"Classic Metal\",\"durationMillis\":\"321000\",\"albumArtRef\":[{\"kind\":\"sj#imageRef\",\"url\":\"http://lh6.ggpht.com/A2E5CCQNmdLuTTQVH7zg7GHtjoa3fX8LKGm2IYcCQgB7UKNpRNnVCgVOpw5AB6xjcNK_md7J4w\",\"aspectRatio\":\"1\",\"autogen\":false}],\"discNumber\":1,\"estimatedSize\":\"12868990\",\"trackType\":\"7\",\"storeId\":\"T7pdaq45262zqxedxdh4mtofys4\",\"albumId\":\"ueuon7ods7vbghideicbd3vn3u\",\"artistId\":[\"v2isacb3vjzjjv6k7shuti542y\"],\"nid\":\"7pdaq45262zqxedxdh4mtofys4\",\"trackAvailableForSubscription\":true,\"trackAvailableForPurchase\":true,\"albumAvailableForPurchase\":true,\"explicitType\":\"2\"}},{\"type\":\"1\",\"track\":{\"kind\":\"sj#track\",\"title\":\"Better Now (Acoustic)\",\"artist\":\"Etham\",\"composer\":\"Etham\",\"album\":\"Better Now (Acoustic)\",\"albumArtist\":\"Etham\",\"year\":2017,\"trackNumber\":1,\"genre\":\"Singer-Songwriter\",\"durationMillis\":\"240000\",\"albumArtRef\":[{\"kind\":\"sj#imageRef\",\"url\":\"http://lh3.googleusercontent.com/X2ZFOlfNsdwwugOshrPkxu8Qst9CLmIAEOrlpwWx2M-PngHFT3VUcz7wqzDeQhqk0wK8gWiT\",\"aspectRatio\":\"1\",\"autogen\":false}],\"discNumber\":1,\"estimatedSize\":\"9630861\",\"trackType\":\"7\",\"storeId\":\"Tdwglad5tpotcyq2elsodaxmi3y\",\"albumId\":\"qy75u3c36etep2jtjpjy2ii7xm\",\"artistId\":[\"l4qe23ow667haxomxsyujos55y\"],\"nid\":\"dwglad5tpotcyq2elsodaxmi3y\",\"trackAvailableForSubscription\":true,\"trackAvailableForPurchase\":true,\"albumAvailableForPurchase\":true,\"explicitType\":\"2\"}},{\"type\":\"1\",\"track\":{\"kind\":\"sj#track\",\"title\":\"Better Than Revenge\",\"artist\":\"Taylor Swift\",\"composer\":\"Taylor Swift\",\"album\":\"Speak Now\",\"albumArtist\":\"Taylor Swift\",\"year\":2010,\"trackNumber\":10,\"genre\":\"Country\",\"durationMillis\":\"217000\",\"albumArtRef\":[{\"kind\":\"sj#imageRef\",\"url\":\"http://lh3.googleusercontent.com/F5dAQGJQv_lwVLu0xb4xUnDPDuLuBZrf6OdFS4D_N-MtALRofcg07BurYvBsPGbbYdPhlXAq2g\",\"aspectRatio\":\"1\",\"autogen\":false}],\"discNumber\":1,\"estimatedSize\":\"8689408\",\"trackType\":\"7\",\"storeId\":\"T5sio5cfox3bx4mg4p6m6gtshhq\",\"albumId\":\"st5axbw2mae5kyecg3a4siinqa\",\"artistId\":[\"4saifqiazru565jhrrm6d72jaa\"],\"nid\":\"5sio5cfox3bx4mg4p6m6gtshhq\",\"trackAvailableForSubscription\":true,\"trackAvailableForPurchase\":true,\"albumAvailableForPurchase\":true,\"explicitType\":\"2\"}},{\"type\":\"1\",\"track\":{\"kind\":\"sj#track\",\"title\":\"Better Now (feat. Big Mike)\",\"artist\":\"MC Breed\",\"composer\":\"\",\"album\":\"2 for the Show\",\"albumArtist\":\"MC Breed\",\"year\":2016,\"trackNumber\":8,\"genre\":\"Hip-Hop/Rap\",\"durationMillis\":\"239000\",\"albumArtRef\":[{\"kind\":\"sj#imageRef\",\"url\":\"http://lh3.googleusercontent.com/cJI72Us_cZHjQvQ0MNmn3DqMOqdVdRs7nCvdkBfEwf1Y18creolTd8PpHSm4iOFdSFzvZBq_Hw\",\"aspectRatio\":\"1\",\"autogen\":false}],\"discNumber\":1,\"estimatedSize\":\"9571292\",\"trackType\":\"7\",\"storeId\":\"Txgjbszozucaunikxv3bg2c25tq\",\"albumId\":\"w5nfo5lflxkmg3tf3jpwrxr3ia\",\"artistId\":[\"5ijanz7ie2kcfh3wjd2gyhpxgq\",\"sae7nlkln54wvip6fs43vu6ksa\"],\"nid\":\"xgjbszozucaunikxv3bg2c25tq\",\"trackAvailableForSubscription\":true,\"trackAvailableForPurchase\":true,\"albumAvailableForPurchase\":true,\"explicitType\":\"1\"}},{\"type\":\"1\",\"track\":{\"kind\":\"sj#track\",\"title\":...'\n",
      "\n",
      "A traceback follows:\n",
      "Traceback (most recent call last):\n",
      "  File \"c:\\users\\fusiv\\appdata\\local\\programs\\python\\python36\\lib\\site-packages\\gmusicapi\\protocol\\mobileclient.py\", line 626, in validate\n",
      "    return validictory.validate(msg, cls._res_schema)\n",
      "  File \"c:\\users\\fusiv\\appdata\\local\\programs\\python\\python36\\lib\\site-packages\\validictory\\__init__.py\", line 43, in validate\n",
      "    return v.validate(data, schema)\n",
      "  File \"c:\\users\\fusiv\\appdata\\local\\programs\\python\\python36\\lib\\site-packages\\validictory\\validator.py\", line 618, in validate\n",
      "    self.__validate(\"data\", {\"data\": data}, schema, '<obj>')\n",
      "  File \"c:\\users\\fusiv\\appdata\\local\\programs\\python\\python36\\lib\\site-packages\\validictory\\validator.py\", line 660, in __validate\n",
      "    validator(data, fieldname, schema, path, newschema.get(schemaprop))\n",
      "  File \"c:\\users\\fusiv\\appdata\\local\\programs\\python\\python36\\lib\\site-packages\\validictory\\validator.py\", line 293, in validate_properties\n",
      "    path + '.' + property)\n",
      "  File \"c:\\users\\fusiv\\appdata\\local\\programs\\python\\python36\\lib\\site-packages\\validictory\\validator.py\", line 660, in __validate\n",
      "    validator(data, fieldname, schema, path, newschema.get(schemaprop))\n",
      "  File \"c:\\users\\fusiv\\appdata\\local\\programs\\python\\python36\\lib\\site-packages\\validictory\\validator.py\", line 327, in validate_items\n",
      "    '{0}[{1}]'.format(path, index))\n",
      "  File \"c:\\users\\fusiv\\appdata\\local\\programs\\python\\python36\\lib\\site-packages\\validictory\\validator.py\", line 660, in __validate\n",
      "    validator(data, fieldname, schema, path, newschema.get(schemaprop))\n",
      "  File \"c:\\users\\fusiv\\appdata\\local\\programs\\python\\python36\\lib\\site-packages\\validictory\\validator.py\", line 293, in validate_properties\n",
      "    path + '.' + property)\n",
      "  File \"c:\\users\\fusiv\\appdata\\local\\programs\\python\\python36\\lib\\site-packages\\validictory\\validator.py\", line 660, in __validate\n",
      "    validator(data, fieldname, schema, path, newschema.get(schemaprop))\n",
      "  File \"c:\\users\\fusiv\\appdata\\local\\programs\\python\\python36\\lib\\site-packages\\validictory\\validator.py\", line 405, in validate_additionalProperties\n",
      "    \" is False\", value, fieldname, prop=eachProperty, path=path)\n",
      "  File \"c:\\users\\fusiv\\appdata\\local\\programs\\python\\python36\\lib\\site-packages\\validictory\\validator.py\", line 206, in _error\n",
      "    raise err\n",
      "validictory.validator.FieldValidationError: Value {'kind': 'sj#radioStation', 'name': 'Blogged 50', 'description': 'A curated selection of the best songs trending on the Internet right now.', 'seed': {'kind': 'sj#radioSeed', 'curatedStationId': 'Lj7guwddznce3uza7ox5w5ahruy', 'seedType': '9'}, 'stationSeeds': [{'kind': 'sj#radioSeed', 'curatedStationId': 'Lj7guwddznce3uza7ox5w5ahruy', 'seedType': '9'}], 'imageUrls': [{'kind': 'sj#imageRef', 'url': 'http://lh3.googleusercontent.com/JDYALzRXMASteXamftOuzqyqGFonNMKee3oKUS3DFuBKmBP05hPG1ANobJRoweIilTn0nEzIUlc', 'aspectRatio': '1', 'autogen': False}, {'kind': 'sj#imageRef', 'url': 'http://lh3.googleusercontent.com/OvzDMbtDhLUnJbPguaM5f04a8eqRX5V5nfR_eF4FVYfV2zvXJIpmAYJvTxCNzwu4_FzVJMQg2w', 'aspectRatio': '1', 'autogen': False}, {'kind': 'sj#imageRef', 'url': 'http://lh3.googleusercontent.com/4FkSx54p1zKKoXhQ6riGcQNMOYOmpQmYkBfXfKPViGW59aomVI6OwqXO3JGvY9ZdSzQNAWpPz38', 'aspectRatio': '1', 'autogen': False}, {'kind': 'sj#imageRef', 'url': 'http://lh3.googleusercontent.com/aAwLp3QT2JYatUVdzO2B3MknauhHl_nf8pnMxoYU0KGnvYI88cKiHLuz_qEs3fXKDj_myYFMTg', 'aspectRatio': '1', 'autogen': False}, {'kind': 'sj#imageRef', 'url': 'http://lh3.googleusercontent.com/-6ePLO7XUYlxfks805fR8L8ffoJqpqu0iMI-QSLEkxm7E6OBW6n-4Kcm9zBf4OVsrjdu1fqH', 'aspectRatio': '1', 'autogen': False}, {'kind': 'sj#imageRef', 'url': 'http://lh3.googleusercontent.com/ufwZPpniUKPP40IfWyAaRon9HvwBRwHzj0IL_0PId0nlLu1xDMp5sAfgZlEcdSFafppp7JkIWw', 'aspectRatio': '1', 'autogen': False}, {'kind': 'sj#imageRef', 'url': 'http://lh3.googleusercontent.com/0gcZAi6Qcx6JdWfzdU19NedeSqxoiOjJyNccZswszax0EL6A6v3KCOm4b5mOLhKopSJZUOG4', 'aspectRatio': '1', 'autogen': False}, {'kind': 'sj#imageRef', 'url': 'http://lh3.googleusercontent.com/tWS2mGuuLHD7OPj26EF2Bqw_8bsgZpLc8abkdXsJXiY6uDxWPIZdw_B0G4O-jA9mczPphy_W', 'aspectRatio': '1', 'autogen': False}], 'compositeArtRefs': [{'kind': 'sj#imageRef', 'url': 'http://lh3.googleusercontent.com/qaTuty4ganxZmIzVGmWfn1g0tG9iMt7j2VdMb_pvIaV3TBnqW1L0vY7-VM0', 'aspectRatio': '2'}, {'kind': 'sj#imageRef', 'url': 'http://lh3.googleusercontent.com/-gsyGGJJQ_ChBGb_DlHqb-cYXs4K-uGrtNr9Kcwt2A9f5tqqfBW9iOMc', 'aspectRatio': '1'}], 'skipEventHistory': [], 'contentTypes': ['1'], 'byline': 'By Google Play Music', 'adTargeting': {'keyword': ['newmusic']}} for field '<obj>.entries[179].station' contains additional property 'adTargeting' not defined by 'properties' or 'patternProperties' and additionalProperties  is False\n",
      "\n",
      "The above exception was the direct cause of the following exception:\n",
      "\n",
      "Traceback (most recent call last):\n",
      "  File \"c:\\users\\fusiv\\appdata\\local\\programs\\python\\python36\\lib\\site-packages\\gmusicapi\\protocol\\shared.py\", line 249, in perform\n",
      "    cls.validate(response, parsed_response)\n",
      "  File \"c:\\users\\fusiv\\appdata\\local\\programs\\python\\python36\\lib\\site-packages\\gmusicapi\\protocol\\mobileclient.py\", line 628, in validate\n",
      "    raise_from(ValidationException(str(e)), e)\n",
      "  File \"<string>\", line 2, in raise_from\n",
      "gmusicapi.exceptions.ValidationException: Value {'kind': 'sj#radioStation', 'name': 'Blogged 50', 'description': 'A curated selection of the best songs trending on the Internet right now.', 'seed': {'kind': 'sj#radioSeed', 'curatedStationId': 'Lj7guwddznce3uza7ox5w5ahruy', 'seedType': '9'}, 'stationSeeds': [{'kind': 'sj#radioSeed', 'curatedStationId': 'Lj7guwddznce3uza7ox5w5ahruy', 'seedType': '9'}], 'imageUrls': [{'kind': 'sj#imageRef', 'url': 'http://lh3.googleusercontent.com/JDYALzRXMASteXamftOuzqyqGFonNMKee3oKUS3DFuBKmBP05hPG1ANobJRoweIilTn0nEzIUlc', 'aspectRatio': '1', 'autogen': False}, {'kind': 'sj#imageRef', 'url': 'http://lh3.googleusercontent.com/OvzDMbtDhLUnJbPguaM5f04a8eqRX5V5nfR_eF4FVYfV2zvXJIpmAYJvTxCNzwu4_FzVJMQg2w', 'aspectRatio': '1', 'autogen': False}, {'kind': 'sj#imageRef', 'url': 'http://lh3.googleusercontent.com/4FkSx54p1zKKoXhQ6riGcQNMOYOmpQmYkBfXfKPViGW59aomVI6OwqXO3JGvY9ZdSzQNAWpPz38', 'aspectRatio': '1', 'autogen': False}, {'kind': 'sj#imageRef', 'url': 'http://lh3.googleusercontent.com/aAwLp3QT2JYatUVdzO2B3MknauhHl_nf8pnMxoYU0KGnvYI88cKiHLuz_qEs3fXKDj_myYFMTg', 'aspectRatio': '1', 'autogen': False}, {'kind': 'sj#imageRef', 'url': 'http://lh3.googleusercontent.com/-6ePLO7XUYlxfks805fR8L8ffoJqpqu0iMI-QSLEkxm7E6OBW6n-4Kcm9zBf4OVsrjdu1fqH', 'aspectRatio': '1', 'autogen': False}, {'kind': 'sj#imageRef', 'url': 'http://lh3.googleusercontent.com/ufwZPpniUKPP40IfWyAaRon9HvwBRwHzj0IL_0PId0nlLu1xDMp5sAfgZlEcdSFafppp7JkIWw', 'aspectRatio': '1', 'autogen': False}, {'kind': 'sj#imageRef', 'url': 'http://lh3.googleusercontent.com/0gcZAi6Qcx6JdWfzdU19NedeSqxoiOjJyNccZswszax0EL6A6v3KCOm4b5mOLhKopSJZUOG4', 'aspectRatio': '1', 'autogen': False}, {'kind': 'sj#imageRef', 'url': 'http://lh3.googleusercontent.com/tWS2mGuuLHD7OPj26EF2Bqw_8bsgZpLc8abkdXsJXiY6uDxWPIZdw_B0G4O-jA9mczPphy_W', 'aspectRatio': '1', 'autogen': False}], 'compositeArtRefs': [{'kind': 'sj#imageRef', 'url': 'http://lh3.googleusercontent.com/qaTuty4ganxZmIzVGmWfn1g0tG9iMt7j2VdMb_pvIaV3TBnqW1L0vY7-VM0', 'aspectRatio': '2'}, {'kind': 'sj#imageRef', 'url': 'http://lh3.googleusercontent.com/-gsyGGJJQ_ChBGb_DlHqb-cYXs4K-uGrtNr9Kcwt2A9f5tqqfBW9iOMc', 'aspectRatio': '1'}], 'skipEventHistory': [], 'contentTypes': ['1'], 'byline': 'By Google Play Music', 'adTargeting': {'keyword': ['newmusic']}} for field '<obj>.entries[179].station' contains additional property 'adTargeting' not defined by 'properties' or 'patternProperties' and additionalProperties  is False\n"
     ]
    },
    {
     "name": "stdout",
     "output_type": "stream",
     "text": [
      "Better Now -- None -- None\n",
      "El Tule -- Ti4o7anqhsofuydnmcmgpd3vqsa -- Latin\n",
      "Mike and the Moonpies -- Ty7igxuuvqnx7wzloife6obefdi -- None\n",
      "Hoodygoode -- Thh6cliiv43l74chik7j3gmgdga -- Rock\n",
      "Bobby Whitlock -- Tffziai3as3msoni6rp2gqmmqg4 -- Rock\n",
      "Coco Carmel -- Tmtqnx4p6sxqxoxdvkvqfdsogsy -- '70s Rock\n",
      "WC Clark -- None -- None\n",
      "Steven Ray Will -- Tv4eiby7qa7t2qrvgydpd3a4vdi -- Rock\n",
      "Rock Bottom String Band, Black Eyed Vermillion, Urban Pioneers and 11 more... -- None -- None\n",
      "Redd Volkaert -- Tultwvrqhtqekwqp6olv6ylbdvq -- Country\n",
      "Igor -- Twsa6wtitsaq2waoeivfaa4sgwe -- Classical\n",
      "DJ Buck Rodgers -- None -- None\n",
      "Savannah Red Music -- None -- None\n",
      "Scorpio Rising -- T2bbas3vf7viwujm5u265iqoh7u -- Dance/Electronic\n",
      "Go Fever -- Tntelpu4vkegdnnanz222vfjece -- Surf\n",
      "MIDDLESPOON, the Deer, Shaws of Awe and 1 more... -- None -- None\n",
      "Rock Bottom String Band, the Deer, Fire In The Pines and 3 more... -- None -- None\n",
      "The Latin Dukes -- None -- None\n",
      "raccoon brothers, raccoon brothers -- None -- None\n",
      "One Eye Open (Austin), One Eye Open -- None -- None\n",
      "Stefanie Fix -- T4gvpumiwscryx6orefek6k3o5y -- Folk\n",
      "Gary Lindsey -- Tucob77tdp35whrwpdo6o3z4eoy -- Rock\n",
      "the Pleasure Tide -- None -- None\n",
      "James Keith, Grupo Fantasma, James Keith And The Moondogs and 3 more... -- None -- None\n",
      "Bombasta -- Tnq3ygm3utgk4rkusay5iidullq -- Pop\n",
      "The Moondogs -- T2r5xauwose3iw5sepbfejadwzi -- Rock\n",
      "DJ King Louie -- None -- None\n",
      "Charlotte -- T56j5mxrydr3w3sfyuem3yqerma -- Punk\n",
      "Bands for Lands -- None -- None\n",
      "the Jamie Krueger Group -- None -- None\n",
      "Greg Izor Blues Band -- None -- None\n",
      "John Inmon -- None -- None\n",
      "HONKY TONK DREAMS -- None -- None\n",
      "Get a Room -- T2tzofvoy52pzm724cmqi6dngmi -- Dance/Electronic\n",
      "Micah Wagner -- Tmeqnjedtppmzpfy73chrdwkjcu -- Folk\n",
      "The Mismatch -- Tmhse4i333yuei5aht7iq2uhnbu -- Pop\n",
      "Mariachi USA Festival -- None -- None\n",
      "Mariachi Nuevo Tecalitlan -- Twh6sgoqcencedudbmewv2td4ie -- World\n",
      "Mariachi Los Camperos de Nati Cano -- T6smhuqxzlrzexwpfkebswe2rwa -- Latin\n"
     ]
    }
   ],
   "source": [
    "ap = ArtistPlaylist()\n",
    "\n",
    "MAX_SONG_COUNT = 25\n",
    "song_ids = []\n",
    "for ev in events:\n",
    "    songs = ap.songs_from_artist(ev['artist'])\n",
    "    result = None\n",
    "    sid = None\n",
    "    if songs:\n",
    "        sid = songs[0]['storeId']\n",
    "        song_ids.append(sid)\n",
    "        result = songs[0].get('genre', None)\n",
    "    print(' -- '.join([ev['artist'], str(sid) , str(result)]))\n",
    "    if len(song_ids) > MAX_SONG_COUNT: break"
   ]
  },
  {
   "cell_type": "code",
   "execution_count": 5,
   "metadata": {},
   "outputs": [
    {
     "data": {
      "application/vnd.jupyter.widget-view+json": {
       "model_id": "69dcaae924e4418d88b05111b74c70b2",
       "version_major": 2,
       "version_minor": 0
      },
      "text/html": [
       "<p>Failed to display Jupyter Widget of type <code>Button</code>.</p>\n",
       "<p>\n",
       "  If you're reading this message in Jupyter Notebook or JupyterLab, it may mean\n",
       "  that the widgets JavaScript is still loading. If this message persists, it\n",
       "  likely means that the widgets JavaScript library is either not installed or\n",
       "  not enabled. See the <a href=\"https://ipywidgets.readthedocs.io/en/stable/user_install.html\">Jupyter\n",
       "  Widgets Documentation</a> for setup instructions.\n",
       "</p>\n",
       "<p>\n",
       "  If you're reading this message in another notebook frontend (for example, a static\n",
       "  rendering on GitHub or <a href=\"https://nbviewer.jupyter.org/\">NBViewer</a>),\n",
       "  it may mean that your frontend doesn't currently support widgets.\n",
       "</p>\n"
      ],
      "text/plain": [
       "Button(description='Publish Playlist', style=ButtonStyle())"
      ]
     },
     "metadata": {},
     "output_type": "display_data"
    },
    {
     "data": {
      "application/vnd.jupyter.widget-view+json": {
       "model_id": "8c1e1602579d49bf864d6a7bde21bc5c",
       "version_major": 2,
       "version_minor": 0
      },
      "text/html": [
       "<p>Failed to display Jupyter Widget of type <code>Button</code>.</p>\n",
       "<p>\n",
       "  If you're reading this message in Jupyter Notebook or JupyterLab, it may mean\n",
       "  that the widgets JavaScript is still loading. If this message persists, it\n",
       "  likely means that the widgets JavaScript library is either not installed or\n",
       "  not enabled. See the <a href=\"https://ipywidgets.readthedocs.io/en/stable/user_install.html\">Jupyter\n",
       "  Widgets Documentation</a> for setup instructions.\n",
       "</p>\n",
       "<p>\n",
       "  If you're reading this message in another notebook frontend (for example, a static\n",
       "  rendering on GitHub or <a href=\"https://nbviewer.jupyter.org/\">NBViewer</a>),\n",
       "  it may mean that your frontend doesn't currently support widgets.\n",
       "</p>\n"
      ],
      "text/plain": [
       "Button(description='Delete Playlist', style=ButtonStyle())"
      ]
     },
     "metadata": {},
     "output_type": "display_data"
    },
    {
     "name": "stdout",
     "output_type": "stream",
     "text": [
      "Published playlist with 26 songs\n"
     ]
    }
   ],
   "source": [
    "import ipywidgets as widgets\n",
    "from IPython.display import display\n",
    "button = widgets.Button(description=\"Publish Playlist\")\n",
    "display(button)\n",
    "\n",
    "PUBLISH_PUBLICALLY = True\n",
    "\n",
    "def on_button_clicked(b):\n",
    "    ap.create_playlist(song_ids, 'Austin Live Artists - V0.1', public=PUBLISH_PUBLICALLY)\n",
    "    print(\"Published playlist with {} songs\".format(len(song_ids)))\n",
    "\n",
    "button.on_click(on_button_clicked)\n",
    "\n",
    "button_delete = widgets.Button(description=\"Delete Playlist\")\n",
    "display(button_delete)\n",
    "\n",
    "def on_delete_clicked(b):\n",
    "    ap.delete_playlist()\n",
    "    print(\"Deleted playlist\")\n",
    "\n",
    "button_delete.on_click(on_delete_clicked)"
   ]
  },
  {
   "cell_type": "code",
   "execution_count": null,
   "metadata": {},
   "outputs": [],
   "source": []
  }
 ],
 "metadata": {
  "kernelspec": {
   "display_name": "Python 3",
   "language": "python",
   "name": "python3"
  },
  "language_info": {
   "codemirror_mode": {
    "name": "ipython",
    "version": 3
   },
   "file_extension": ".py",
   "mimetype": "text/x-python",
   "name": "python",
   "nbconvert_exporter": "python",
   "pygments_lexer": "ipython3",
   "version": "3.6.1"
  }
 },
 "nbformat": 4,
 "nbformat_minor": 2
}
