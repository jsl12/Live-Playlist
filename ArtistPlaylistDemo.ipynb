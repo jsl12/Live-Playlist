{
 "cells": [
  {
   "cell_type": "code",
   "execution_count": 14,
   "metadata": {},
   "outputs": [
    {
     "name": "stdout",
     "output_type": "stream",
     "text": [
      "Found 10 events\n"
     ]
    }
   ],
   "source": [
    "from artistplaylist import ArtistPlaylist\n",
    "import event_scraper\n",
    "import pprint\n",
    "\n",
    "events = event_scraper.get_events(1, 10)\n",
    "print(\"Found {0} events\".format(len(events)))"
   ]
  },
  {
   "cell_type": "code",
   "execution_count": 15,
   "metadata": {},
   "outputs": [
    {
     "name": "stdout",
     "output_type": "stream",
     "text": [
      "Autograf and Ayokay\n",
      "Angelo Moore and the Brand New Step\n",
      "Charlotte DJ Set\n",
      "Lil Mike & Funny Bone, Lil Mike & FunnyBone\n",
      "Carter Arrington\n",
      "Young and Rusty\n",
      "Tiarra Girls, Grupo Fantasma, Bombasta and 3 more...\n",
      "Teddy Long Music\n",
      "Werefoot, Ayasoltec, Toulca and 6 more...\n",
      "Oscar Ornelas\n"
     ]
    }
   ],
   "source": [
    "for ev in events:\n",
    "    print(ev['artist'])"
   ]
  },
  {
   "cell_type": "code",
   "execution_count": 17,
   "metadata": {},
   "outputs": [
    {
     "name": "stderr",
     "output_type": "stream",
     "text": [
      "INFO:gmusicapi.Mobileclient10:initialized\n",
      "INFO:gmusicapi.Mobileclient10:logged out\n",
      "INFO:gmusicapi.Mobileclient10:authenticated\n",
      "INFO:gmusicapi.Mobileclient10:subscribed\n"
     ]
    },
    {
     "name": "stdout",
     "output_type": "stream",
     "text": [
      "Autograf and Ayokay -- None -- None\n",
      "Angelo Moore and the Brand New Step -- T2vp2yooyjrcim5emvwhi3rmnm4 -- Jazz\n",
      "Charlotte DJ Set -- None -- None\n",
      "Lil Mike & Funny Bone, Lil Mike & FunnyBone -- Tltlsyiway6ahed42y57ylpjv7u -- Hip-Hop/Rap\n",
      "Carter Arrington -- Tsdokfkhbxoddydojsej4vikq4m -- Hip-Hop/Rap\n",
      "Young and Rusty -- T5k5buy62iqgsv5lvqtk4o35nwy -- Vocal/Easy Listening\n",
      "Tiarra Girls, Grupo Fantasma, Bombasta and 3 more... -- None -- None\n",
      "Teddy Long Music -- T3g3r74to6xokh2hxclb2mccfsq -- Pop\n",
      "Werefoot, Ayasoltec, Toulca and 6 more... -- None -- None\n",
      "Oscar Ornelas -- None -- None\n"
     ]
    }
   ],
   "source": [
    "ap = ArtistPlaylist()\n",
    "\n",
    "song_ids = []\n",
    "for ev in events:\n",
    "    songs = ap.songs_from_artist(ev['artist'])\n",
    "    result = None\n",
    "    sid = None\n",
    "    if songs:\n",
    "        sid = songs[0]['storeId']\n",
    "        song_ids.append(sid)\n",
    "        result = songs[0]['genre']\n",
    "    print(' -- '.join([ev['artist'], str(sid) , str(result)]))"
   ]
  },
  {
   "cell_type": "code",
   "execution_count": 18,
   "metadata": {},
   "outputs": [],
   "source": [
    "ap.create_playlist(song_ids, 'ArtistPlaylistDemo')"
   ]
  },
  {
   "cell_type": "code",
   "execution_count": null,
   "metadata": {},
   "outputs": [],
   "source": []
  }
 ],
 "metadata": {
  "kernelspec": {
   "display_name": "Python 3",
   "language": "python",
   "name": "python3"
  },
  "language_info": {
   "codemirror_mode": {
    "name": "ipython",
    "version": 3
   },
   "file_extension": ".py",
   "mimetype": "text/x-python",
   "name": "python",
   "nbconvert_exporter": "python",
   "pygments_lexer": "ipython3",
   "version": "3.6.1"
  }
 },
 "nbformat": 4,
 "nbformat_minor": 2
}
