{
 "cells": [
  {
   "cell_type": "code",
   "execution_count": 1,
   "metadata": {},
   "outputs": [],
   "source": [
    "import html_fetch\n",
    "import re\n",
    "import datetime\n",
    "from pprint import pprint\n",
    "import event_scraper\n",
    "\n",
    "soup = html_fetch.create_soup(event_scraper.create_url(2))"
   ]
  },
  {
   "cell_type": "code",
   "execution_count": 2,
   "metadata": {},
   "outputs": [
    {
     "name": "stdout",
     "output_type": "stream",
     "text": [
      "[{'artist': 'El Tule', 'date': datetime.date(2017, 11, 4)},\n",
      " {'artist': 'Mike and the Moonpies', 'date': datetime.date(2017, 11, 4)},\n",
      " {'artist': 'Hoodygoode', 'date': datetime.date(2017, 11, 4)},\n",
      " {'artist': 'Bobby Whitlock', 'date': datetime.date(2017, 11, 4)},\n",
      " {'artist': 'Coco Carmel', 'date': datetime.date(2017, 11, 4)},\n",
      " {'artist': 'WC Clark', 'date': datetime.date(2017, 11, 4)},\n",
      " {'artist': 'Steven Ray Will', 'date': datetime.date(2017, 11, 4)},\n",
      " {'artist': 'Rock Bottom String Band, Black Eyed Vermillion, Urban Pioneers '\n",
      "            'and 11 more...',\n",
      "  'date': datetime.date(2017, 11, 4)},\n",
      " {'artist': 'Redd Volkaert', 'date': datetime.date(2017, 11, 4)},\n",
      " {'artist': 'Igor', 'date': datetime.date(2017, 11, 4)},\n",
      " {'artist': 'DJ Buck Rodgers', 'date': datetime.date(2017, 11, 4)},\n",
      " {'artist': 'Savannah Red Music', 'date': datetime.date(2017, 11, 4)},\n",
      " {'artist': 'Scorpio Rising', 'date': datetime.date(2017, 11, 4)},\n",
      " {'artist': 'Go Fever', 'date': datetime.date(2017, 11, 4)},\n",
      " {'artist': 'MIDDLESPOON, the Deer, Shaws of Awe and 1 more...',\n",
      "  'date': datetime.date(2017, 11, 4)},\n",
      " {'artist': 'Rock Bottom String Band, the Deer, Fire In The Pines and 3 '\n",
      "            'more...',\n",
      "  'date': datetime.date(2017, 11, 4)},\n",
      " {'artist': 'The Latin Dukes', 'date': datetime.date(2017, 11, 4)},\n",
      " {'artist': 'raccoon brothers, raccoon brothers',\n",
      "  'date': datetime.date(2017, 11, 4)},\n",
      " {'artist': 'One Eye Open (Austin), One Eye Open',\n",
      "  'date': datetime.date(2017, 11, 4)},\n",
      " {'artist': 'Stefanie Fix', 'date': datetime.date(2017, 11, 4)}]\n"
     ]
    }
   ],
   "source": [
    "events = event_scraper.process_soup(soup)\n",
    "pprint(events)"
   ]
  },
  {
   "cell_type": "code",
   "execution_count": null,
   "metadata": {},
   "outputs": [],
   "source": [
    " event_scraper.get_events(5)"
   ]
  },
  {
   "cell_type": "code",
   "execution_count": null,
   "metadata": {},
   "outputs": [],
   "source": []
  }
 ],
 "metadata": {
  "kernelspec": {
   "display_name": "Python 3",
   "language": "python",
   "name": "python3"
  },
  "language_info": {
   "codemirror_mode": {
    "name": "ipython",
    "version": 3
   },
   "file_extension": ".py",
   "mimetype": "text/x-python",
   "name": "python",
   "nbconvert_exporter": "python",
   "pygments_lexer": "ipython3",
   "version": "3.6.1"
  }
 },
 "nbformat": 4,
 "nbformat_minor": 2
}
