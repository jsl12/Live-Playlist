{
 "cells": [
  {
   "cell_type": "code",
   "execution_count": 93,
   "metadata": {},
   "outputs": [],
   "source": [
    "import html_fetch\n",
    "import re\n",
    "import datetime\n",
    "from pprint import pprint\n",
    "\n",
    "URL = 'https://www.bandsintown.com/cities/austin-tx'\n",
    "\n",
    "soup = html_fetch.create_soup(URL)"
   ]
  },
  {
   "cell_type": "code",
   "execution_count": 94,
   "metadata": {},
   "outputs": [
    {
     "name": "stdout",
     "output_type": "stream",
     "text": [
      "[{'artist': 'Yungblud', 'date': datetime.date(2017, 10, 31)},\n",
      " {'artist': 'Cass&Ra', 'date': datetime.date(2017, 10, 31)},\n",
      " {'artist': 'The Christopher Brothers', 'date': datetime.date(2017, 10, 31)},\n",
      " {'artist': 'Carter Arrington', 'date': datetime.date(2017, 10, 31)},\n",
      " {'artist': 'Weldon Henson \"Willie\" scary Halloween dance',\n",
      "  'date': datetime.date(2017, 10, 31)},\n",
      " {'artist': \"Debra Peters' Accordion Roundup\",\n",
      "  'date': datetime.date(2017, 10, 31)},\n",
      " {'artist': 'David Grissom', 'date': datetime.date(2017, 10, 31)},\n",
      " {'artist': 'Alice Wallace', 'date': datetime.date(2017, 10, 31)},\n",
      " {'artist': 'Rochelle', 'date': datetime.date(2017, 10, 31)},\n",
      " {'artist': 'The Sidewinders', 'date': datetime.date(2017, 10, 31)},\n",
      " {'artist': 'Shawn Pander', 'date': datetime.date(2017, 10, 31)},\n",
      " {'artist': 'Sarah Sharp', 'date': datetime.date(2017, 10, 31)},\n",
      " {'artist': 'Seth Carper Quartet', 'date': datetime.date(2017, 10, 31)},\n",
      " {'artist': 'Tara Williamson Music', 'date': datetime.date(2017, 10, 31)},\n",
      " {'artist': 'Brian Kremer', 'date': datetime.date(2017, 10, 31)},\n",
      " {'artist': 'Jamie Thomas', 'date': datetime.date(2017, 10, 31)},\n",
      " {'artist': 'Larnell Starkey & The Spiritual Seven Gospel Singers',\n",
      "  'date': datetime.date(2017, 10, 31)},\n",
      " {'artist': 'The Studebakers Halloween extravaganza',\n",
      "  'date': datetime.date(2017, 10, 31)},\n",
      " {'artist': \"Antone's Big Trio\", 'date': datetime.date(2017, 10, 31)},\n",
      " {'artist': 'Billy Dee', 'date': datetime.date(2017, 10, 31)}]\n"
     ]
    }
   ],
   "source": [
    "def process_soup(soup):\n",
    "    events = soup.find_all('tr', attrs={'itemtype': re.compile('schema.org/MusicEvent')})\n",
    "    processed = []\n",
    "    for ev in events:\n",
    "        event = {}\n",
    "        event['date'] = datetime.datetime.strptime(ev.select('meta[itemprop~=startDate]')[0]['content'], '%Y-%m-%d').date()\n",
    "        event['artist'] = ev.select('.artist')[0].text.strip()\n",
    "        processed.append(event)\n",
    "    return processed\n",
    "\n",
    "events = process_soup(soup)\n",
    "pprint(events)"
   ]
  },
  {
   "cell_type": "code",
   "execution_count": null,
   "metadata": {},
   "outputs": [],
   "source": []
  }
 ],
 "metadata": {
  "kernelspec": {
   "display_name": "Python 3",
   "language": "python",
   "name": "python3"
  },
  "language_info": {
   "codemirror_mode": {
    "name": "ipython",
    "version": 3
   },
   "file_extension": ".py",
   "mimetype": "text/x-python",
   "name": "python",
   "nbconvert_exporter": "python",
   "pygments_lexer": "ipython3",
   "version": "3.6.1"
  }
 },
 "nbformat": 4,
 "nbformat_minor": 2
}
